{
 "cells": [
  {
   "cell_type": "code",
   "execution_count": null,
   "id": "6b43b7f5",
   "metadata": {},
   "outputs": [],
   "source": [
    "#Background:\n",
    "Bombay hospitality Ltd. operates a franchise model for producing exotic Norwegian dinners throughout New England. The operating cost for a franchise in a week (W) is given by the equation W = $1,000 + $5X, where X represents the number of units produced in a week. Recent feedback from restaurant owners suggests that this cost model may no longer be accurate, as their observed weekly operating costs are higher.\n",
    "Objective:\n",
    "To investigate the restaurant owners' claim about the increase in weekly operating costs using hypothesis testing.\n",
    "Data Provided:\n",
    "•\tThe theoretical weekly operating cost model: W = $1,000 + $5X\n",
    "•\tSample of 25 restaurants with a mean weekly cost of Rs. 3,050\n",
    "•\tNumber of units produced in a week (X) follows a normal distribution with a mean (μ) of 600 units and a standard deviation (σ) of 25 units\n",
    "Assignment Tasks:\n"
   ]
  },
  {
   "cell_type": "code",
   "execution_count": null,
   "id": "8435e789",
   "metadata": {},
   "outputs": [],
   "source": [
    "1. State the Hypotheses statement:"
   ]
  },
  {
   "cell_type": "code",
   "execution_count": null,
   "id": "61ee0caf",
   "metadata": {},
   "outputs": [],
   "source": [
    "Null Hypothesis (H0): The theoretical mean weekly operating cost according to the cost model is accurate.\n",
    "    H0: pop_mean=$1000+$5X\n",
    "Alternative Hypothesis (H1): The weekly operating costs are higher than the model suggests.\n",
    "        H1: pop_mean>$1000+$5X\n"
   ]
  },
  {
   "cell_type": "code",
   "execution_count": null,
   "id": "cd6d6aa0",
   "metadata": {},
   "outputs": [],
   "source": [
    "2. Calculate the Test Statistic:\n",
    "Use the following formula to calculate the test statistic (t):\n",
    "where:\n",
    "•\tˉxˉ = sample mean weekly cost (Rs. 3,050)\n",
    "•\tμ = theoretical mean weekly cost according to the cost model (W = $1,000 + $5X for X = 600 units)\n",
    "•\tσ = 5*25 units\n",
    "•\tn = sample size (25 restaurants)\n"
   ]
  },
  {
   "cell_type": "code",
   "execution_count": 2,
   "id": "eeccc38e",
   "metadata": {},
   "outputs": [],
   "source": [
    "## critical value of test statistic\n",
    "import scipy.stats as stats\n",
    "import numpy as np\n",
    "import pandas as pd\n",
    "import math"
   ]
  },
  {
   "cell_type": "code",
   "execution_count": null,
   "id": "6f261d76",
   "metadata": {},
   "outputs": [],
   "source": [
    "## The formula to calculate the test statistic (t) is:\n",
    "tstats=(x_bar-pop_mean)/(s/math.sqrt(n))"
   ]
  },
  {
   "cell_type": "code",
   "execution_count": 13,
   "id": "e83b61d1",
   "metadata": {},
   "outputs": [],
   "source": [
    "#pop_mean=$1000+$5*600units = 4000\n",
    "#s=5*25=125"
   ]
  },
  {
   "cell_type": "code",
   "execution_count": 8,
   "id": "9472e538",
   "metadata": {},
   "outputs": [],
   "source": [
    "x_bar=3050\n",
    "n=25\n",
    "pop_mean=4000\n",
    "s=125\n",
    "alpha=0.05"
   ]
  },
  {
   "cell_type": "code",
   "execution_count": 9,
   "id": "9696cb3b",
   "metadata": {},
   "outputs": [],
   "source": [
    "tstats=(x_bar-pop_mean)/(s/math.sqrt(n))    ## formula for test statistic"
   ]
  },
  {
   "cell_type": "code",
   "execution_count": 10,
   "id": "63f2d591",
   "metadata": {},
   "outputs": [
    {
     "data": {
      "text/plain": [
       "-38.0"
      ]
     },
     "execution_count": 10,
     "metadata": {},
     "output_type": "execute_result"
    }
   ],
   "source": [
    "tstats"
   ]
  },
  {
   "cell_type": "code",
   "execution_count": null,
   "id": "4bebb074",
   "metadata": {},
   "outputs": [],
   "source": [
    "3. Determine the Critical Value:"
   ]
  },
  {
   "cell_type": "code",
   "execution_count": null,
   "id": "8408e94a",
   "metadata": {},
   "outputs": [],
   "source": [
    "#degree of freedom =24\n",
    "# alpha=0.05"
   ]
  },
  {
   "cell_type": "code",
   "execution_count": 11,
   "id": "3f493fab",
   "metadata": {},
   "outputs": [
    {
     "data": {
      "text/plain": [
       "2.0638985616280205"
      ]
     },
     "execution_count": 11,
     "metadata": {},
     "output_type": "execute_result"
    }
   ],
   "source": [
    "## critical value\n",
    "stats.t.ppf(1-0.05/2,24)"
   ]
  },
  {
   "cell_type": "code",
   "execution_count": null,
   "id": "7762c508",
   "metadata": {},
   "outputs": [],
   "source": [
    "4. Make a Decision:"
   ]
  },
  {
   "cell_type": "code",
   "execution_count": null,
   "id": "b0e42d49",
   "metadata": {},
   "outputs": [],
   "source": [
    "Our calculated test statistic (t = -38) is more extreme (further to the left in the negative tail) than the critical value (z_critical = 1.645)."
   ]
  },
  {
   "cell_type": "code",
   "execution_count": null,
   "id": "f298e49d",
   "metadata": {},
   "outputs": [],
   "source": [
    "5.Conclusion:\n"
   ]
  },
  {
   "cell_type": "code",
   "execution_count": null,
   "id": "17b97424",
   "metadata": {},
   "outputs": [],
   "source": [
    "Now, lets compare the test statistic (-38) with the critical value (1.645) to make a decision. Since the test statistic is much lower than the critical value, we reject the null hypothesis.\n",
    "Therefore, there is strong evidence to support the restaurant owners claim that the weekly operating costs are higher than the model suggests.\n",
    "\n"
   ]
  },
  {
   "cell_type": "code",
   "execution_count": null,
   "id": "57f11e00",
   "metadata": {},
   "outputs": [],
   "source": []
  }
 ],
 "metadata": {
  "kernelspec": {
   "display_name": "Python 3 (ipykernel)",
   "language": "python",
   "name": "python3"
  },
  "language_info": {
   "codemirror_mode": {
    "name": "ipython",
    "version": 3
   },
   "file_extension": ".py",
   "mimetype": "text/x-python",
   "name": "python",
   "nbconvert_exporter": "python",
   "pygments_lexer": "ipython3",
   "version": "3.11.7"
  }
 },
 "nbformat": 4,
 "nbformat_minor": 5
}
