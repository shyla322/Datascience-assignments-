{
 "cells": [
  {
   "cell_type": "code",
   "execution_count": null,
   "id": "aa1a512c",
   "metadata": {},
   "outputs": [],
   "source": [
    "Exercise 1: Prime Numbers\n",
    "Write a Python program that checks whether a given number is prime or not. A prime number is a natural number greater than 1 that has no positive divisors other than 1 and itself.\n"
   ]
  },
  {
   "cell_type": "code",
   "execution_count": 4,
   "id": "c5b1d3cd",
   "metadata": {},
   "outputs": [
    {
     "name": "stdout",
     "output_type": "stream",
     "text": [
      "True\n"
     ]
    }
   ],
   "source": [
    "def test_prime(n):\n",
    "    if(n==1):\n",
    "        return False\n",
    "    elif(n==2):\n",
    "        return True\n",
    "    else:\n",
    "        for x in range(2,n):\n",
    "            if(n%x==0):\n",
    "                return False\n",
    "    return True\n",
    "print(test_prime())"
   ]
  },
  {
   "cell_type": "code",
   "execution_count": null,
   "id": "b9538384",
   "metadata": {},
   "outputs": [],
   "source": [
    "Exercise 2: Product of Random Numbers\n",
    "Develop a Python program that generates two random numbers and asks the user to enter the product of these numbers. The program should then check if the user's answer is correct and display an appropriate message\n"
   ]
  },
  {
   "cell_type": "code",
   "execution_count": 5,
   "id": "49a62bb4",
   "metadata": {},
   "outputs": [],
   "source": [
    "import random"
   ]
  },
  {
   "cell_type": "code",
   "execution_count": 11,
   "id": "5ff89a64",
   "metadata": {},
   "outputs": [
    {
     "name": "stdout",
     "output_type": "stream",
     "text": [
      "What is the product of 8 and 2? 16\n",
      "Congratulations! Your answer is correct.\n"
     ]
    }
   ],
   "source": [
    "def generate_numbers():\n",
    "    num1 = random.randint(1, 10)\n",
    "    num2 = random.randint(1, 10)\n",
    "    return num1, num2\n",
    "\n",
    "def main():\n",
    "    num1, num2 = generate_numbers()\n",
    "    product = num1 * num2\n",
    "    user_answer = int(input(f\"What is the product of {num1} and {num2}? \"))\n",
    "    \n",
    "    if user_answer == product:\n",
    "        print(\"Congratulations! Your answer is correct.\")\n",
    "    else:\n",
    "        print(f\"Sorry, the correct answer is {product}.\")\n",
    "\n",
    "if __name__ == \"__main__\":\n",
    "    main() \n",
    "   "
   ]
  },
  {
   "cell_type": "code",
   "execution_count": null,
   "id": "421d9837",
   "metadata": {},
   "outputs": [],
   "source": [
    "Exercise 3: Squares of Even/Odd Numbers\n",
    "Create a Python script that prints the squares of all even or odd numbers within the range of 100 to 200. Choose either even or odd numbers and document your choice in the code.\n",
    "ANS:\n"
   ]
  },
  {
   "cell_type": "code",
   "execution_count": 12,
   "id": "0151879f",
   "metadata": {},
   "outputs": [
    {
     "name": "stdout",
     "output_type": "stream",
     "text": [
      "Squares of odd numbers within the range 100 to 200:\n",
      "10201\n",
      "10609\n",
      "11025\n",
      "11449\n",
      "11881\n",
      "12321\n",
      "12769\n",
      "13225\n",
      "13689\n",
      "14161\n",
      "14641\n",
      "15129\n",
      "15625\n",
      "16129\n",
      "16641\n",
      "17161\n",
      "17689\n",
      "18225\n",
      "18769\n",
      "19321\n",
      "19881\n",
      "20449\n",
      "21025\n",
      "21609\n",
      "22201\n",
      "22801\n",
      "23409\n",
      "24025\n",
      "24649\n",
      "25281\n",
      "25921\n",
      "26569\n",
      "27225\n",
      "27889\n",
      "28561\n",
      "29241\n",
      "29929\n",
      "30625\n",
      "31329\n",
      "32041\n",
      "32761\n",
      "33489\n",
      "34225\n",
      "34969\n",
      "35721\n",
      "36481\n",
      "37249\n",
      "38025\n",
      "38809\n",
      "39601\n"
     ]
    }
   ],
   "source": [
    "def main():\n",
    "    print(\"Squares of odd numbers within the range 100 to 200:\")\n",
    "    for num in range(101, 200, 2):  # Start from 101 to ensure we include only odd numbers\n",
    "        print(num ** 2)\n",
    "\n",
    "if __name__ == \"__main__\":\n",
    "    main()"
   ]
  },
  {
   "cell_type": "code",
   "execution_count": null,
   "id": "b53aa515",
   "metadata": {},
   "outputs": [],
   "source": [
    "#Exercise 4: Word counter\n",
    "write a program to count the number of words in a given text.\n",
    "example:\n",
    "input_text = \"This is a sample text. This text will be used to demonstrate the word counter.\"\n",
    "Expected output:\n",
    "'This': 2 \n",
    "'is': 1\n",
    "'a': 1\n",
    "'sample': 1\n",
    "'text.': 1\n"
   ]
  },
  {
   "cell_type": "code",
   "execution_count": 13,
   "id": "f0a9b622",
   "metadata": {},
   "outputs": [],
   "source": [
    "def word_counter(input_text):\n",
    "    words = input_text.split()\n",
    "    word_count = {}\n",
    "    for word in words:\n",
    "        word_count[word] = word_count.get(word, 0) + 1\n",
    "    return word_count"
   ]
  },
  {
   "cell_type": "code",
   "execution_count": 14,
   "id": "d687e786",
   "metadata": {},
   "outputs": [],
   "source": [
    "input_text = \"This is a sample text. This text will be used to demonstrate the word counter.\""
   ]
  },
  {
   "cell_type": "code",
   "execution_count": 15,
   "id": "8d761cb5",
   "metadata": {},
   "outputs": [],
   "source": [
    "word_count = word_counter(input_text)"
   ]
  },
  {
   "cell_type": "code",
   "execution_count": 16,
   "id": "72adddd3",
   "metadata": {},
   "outputs": [
    {
     "name": "stdout",
     "output_type": "stream",
     "text": [
      "Word Count:\n",
      "'This': 2\n",
      "'is': 1\n",
      "'a': 1\n",
      "'sample': 1\n",
      "'text.': 1\n",
      "'text': 1\n",
      "'will': 1\n",
      "'be': 1\n",
      "'used': 1\n",
      "'to': 1\n",
      "'demonstrate': 1\n",
      "'the': 1\n",
      "'word': 1\n",
      "'counter.': 1\n"
     ]
    }
   ],
   "source": [
    "print(\"Word Count:\")\n",
    "for word, count in word_count.items():\n",
    "    print(f\"'{word}': {count}\")"
   ]
  },
  {
   "cell_type": "code",
   "execution_count": null,
   "id": "399feba6",
   "metadata": {},
   "outputs": [],
   "source": [
    "## Check for Palindrome\n",
    "Write a Python function called is_palindrome that takes a string as input and returns True if the string is a palindrome, and False otherwise. A palindrome is a word, phrase, number, or other sequence of characters that reads the same forward and backward, ignoring spaces, punctuation, and capitalization.\n",
    "Example:\n",
    "Input: \"racecar\"\n",
    "Expected Output: True\n",
    "________________________________________\n"
   ]
  },
  {
   "cell_type": "code",
   "execution_count": 18,
   "id": "6469eebb",
   "metadata": {},
   "outputs": [
    {
     "name": "stdout",
     "output_type": "stream",
     "text": [
      "True\n"
     ]
    }
   ],
   "source": [
    "def is_palindrome(s):\n",
    "    # Convert the string to lowercase and remove spaces and punctuation\n",
    "    s = ''.join(char.lower() for char in s if char.isalnum())\n",
    "    # Check if the string is equal to its reverse\n",
    "    return s == s[::-1]\n",
    "\n",
    "# Test the function\n",
    "input_str = \"racecar\"\n",
    "print(is_palindrome(input_str))"
   ]
  },
  {
   "cell_type": "code",
   "execution_count": null,
   "id": "036584d2",
   "metadata": {},
   "outputs": [],
   "source": []
  }
 ],
 "metadata": {
  "kernelspec": {
   "display_name": "Python 3 (ipykernel)",
   "language": "python",
   "name": "python3"
  },
  "language_info": {
   "codemirror_mode": {
    "name": "ipython",
    "version": 3
   },
   "file_extension": ".py",
   "mimetype": "text/x-python",
   "name": "python",
   "nbconvert_exporter": "python",
   "pygments_lexer": "ipython3",
   "version": "3.11.7"
  }
 },
 "nbformat": 4,
 "nbformat_minor": 5
}
