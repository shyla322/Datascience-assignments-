{
 "cells": [
  {
   "cell_type": "code",
   "execution_count": null,
   "id": "39d7e85f",
   "metadata": {},
   "outputs": [],
   "source": [
    "Association between Device Type and Customer Satisfaction\n",
    "Background:\n",
    "Mizzare Corporation has collected data on customer satisfaction levels for two types of smart home devices: Smart Thermostats and Smart Lights. They want to determine if there's a significant association between the type of device purchased and the customer's satisfaction level.\n",
    "Data Provided:\n",
    "The data is summarized in a contingency table showing the counts of customers in each satisfaction level for both types of devices:\n"
   ]
  },
  {
   "cell_type": "code",
   "execution_count": null,
   "id": "b67778bf",
   "metadata": {},
   "outputs": [],
   "source": [
    "'Satisfaction'    'Smart Thermostat' 'Smart Light'   'Total'\n",
    "'Very Satisfied'       50                  70            120\n",
    "'Satisfied'            80                  100          180\n",
    "'Neutral'              60                  90            150\n",
    "'Unsatisfied'          30                  50            80\n",
    "'Very Unsatisfied'     20                  50            70\n",
    "Total                  240                 360           600\n"
   ]
  },
  {
   "cell_type": "code",
   "execution_count": null,
   "id": "4f80e437",
   "metadata": {},
   "outputs": [],
   "source": [
    "Objective:\n",
    "To use the Chi-Square test for independence to determine if there's a significant association between the type of smart home device purchased (Smart Thermostats vs. Smart Lights) and the customer satisfaction level.\n",
    "Assignment Tasks:\n",
    "1.\tState the Hypotheses:\n",
    "2.\tCompute the Chi-Square Statistic:\n",
    "3. Determine the Critical Value:\n",
    "4. Make a Decision"
   ]
  },
  {
   "cell_type": "code",
   "execution_count": null,
   "id": "1ec1e30c",
   "metadata": {},
   "outputs": [],
   "source": [
    "1.\tState the Hypotheses:\n",
    "ANS: Null Hypothesis (H0): There is no significant association between the type of smart home device purchased (Smart Thermostat vs. Smart Lights) and the customer    satisfaction level.\n",
    "Alternative Hypothesis (H1): There is a significant association between the type of smart home device purchased and the customer satisfaction level.\n"
   ]
  },
  {
   "cell_type": "code",
   "execution_count": null,
   "id": "ec0e830b",
   "metadata": {},
   "outputs": [],
   "source": [
    "2.\tCompute the Chi-Square Statistic:"
   ]
  },
  {
   "cell_type": "code",
   "execution_count": 8,
   "id": "b3464959",
   "metadata": {},
   "outputs": [],
   "source": [
    "import numpy as np\n",
    "import pandas as pd\n",
    "from scipy.stats import chi2_contingency\n"
   ]
  },
  {
   "cell_type": "code",
   "execution_count": 3,
   "id": "97cb4356",
   "metadata": {},
   "outputs": [],
   "source": [
    "'Satisfaction'    'Smart Thermostat' 'Smart Light'   'Total'\n",
    "'Very Satisfied'       50                  70            120\n",
    "'Satisfied'            80                  100          180\n",
    "'Neutral'              60                  90            150\n",
    "'Unsatisfied'          30                  50            80\n",
    "'Very Unsatisfied'     20                  50            70\n",
    "Total                  240                 360           600\n"
   ]
  },
  {
   "cell_type": "code",
   "execution_count": 4,
   "id": "1d4a9794",
   "metadata": {},
   "outputs": [],
   "source": [
    "observed = np.array([[50, 70],\n",
    "                     [80, 100],\n",
    "                     [60, 90],\n",
    "                     [30, 50],\n",
    "                     [20, 50]])"
   ]
  },
  {
   "cell_type": "code",
   "execution_count": null,
   "id": "9ffcade6",
   "metadata": {},
   "outputs": [],
   "source": [
    "# Calculate Chi-Square statistic and p-value"
   ]
  },
  {
   "cell_type": "code",
   "execution_count": 9,
   "id": "870f52d2",
   "metadata": {},
   "outputs": [
    {
     "data": {
      "text/plain": [
       "Chi2ContingencyResult(statistic=5.638227513227513, pvalue=0.22784371130697179, dof=4, expected_freq=array([[ 48.,  72.],\n",
       "       [ 72., 108.],\n",
       "       [ 60.,  90.],\n",
       "       [ 32.,  48.],\n",
       "       [ 28.,  42.]]))"
      ]
     },
     "execution_count": 9,
     "metadata": {},
     "output_type": "execute_result"
    }
   ],
   "source": [
    "stats.chi2_contingency(observed)"
   ]
  },
  {
   "cell_type": "code",
   "execution_count": 21,
   "id": "d353eaf0",
   "metadata": {},
   "outputs": [],
   "source": [
    "chi2, pval, deg_of_freedom, expected_frequency=chi2_contingency(observed)"
   ]
  },
  {
   "cell_type": "code",
   "execution_count": 22,
   "id": "69fedfcf",
   "metadata": {},
   "outputs": [
    {
     "data": {
      "text/plain": [
       "(5.638227513227513,\n",
       " 0.22784371130697179,\n",
       " 4,\n",
       " array([[ 48.,  72.],\n",
       "        [ 72., 108.],\n",
       "        [ 60.,  90.],\n",
       "        [ 32.,  48.],\n",
       "        [ 28.,  42.]]))"
      ]
     },
     "execution_count": 22,
     "metadata": {},
     "output_type": "execute_result"
    }
   ],
   "source": [
    "chi2, pval, deg_of_freedom, expected_frequency"
   ]
  },
  {
   "cell_type": "code",
   "execution_count": 23,
   "id": "4128d474",
   "metadata": {},
   "outputs": [
    {
     "data": {
      "text/plain": [
       "5.638227513227513"
      ]
     },
     "execution_count": 23,
     "metadata": {},
     "output_type": "execute_result"
    }
   ],
   "source": [
    "chi2"
   ]
  },
  {
   "cell_type": "code",
   "execution_count": 24,
   "id": "49dc6bc8",
   "metadata": {},
   "outputs": [
    {
     "name": "stdout",
     "output_type": "stream",
     "text": [
      "\n",
      "Chi-Square Statistic: 5.638227513227513\n"
     ]
    }
   ],
   "source": [
    "print(\"\\nChi-Square Statistic:\", chi2)\n"
   ]
  },
  {
   "cell_type": "code",
   "execution_count": 25,
   "id": "4dc218d5",
   "metadata": {},
   "outputs": [
    {
     "name": "stdout",
     "output_type": "stream",
     "text": [
      "p-value: 0.22784371130697179\n"
     ]
    }
   ],
   "source": [
    "print(\"p-value:\", pval)\n"
   ]
  },
  {
   "cell_type": "code",
   "execution_count": 26,
   "id": "31f5f251",
   "metadata": {},
   "outputs": [
    {
     "name": "stdout",
     "output_type": "stream",
     "text": [
      "Degrees of Freedom: 4\n"
     ]
    }
   ],
   "source": [
    "print(\"Degrees of Freedom:\", deg_of_freedom)\n"
   ]
  },
  {
   "cell_type": "code",
   "execution_count": null,
   "id": "b872b834",
   "metadata": {},
   "outputs": [],
   "source": [
    "3. Determine the Critical Value:"
   ]
  },
  {
   "cell_type": "code",
   "execution_count": 27,
   "id": "35a0cfbb",
   "metadata": {},
   "outputs": [],
   "source": [
    "# Set significance level (alpha)\n",
    "alpha = 0.05\n"
   ]
  },
  {
   "cell_type": "code",
   "execution_count": 28,
   "id": "c4d76202",
   "metadata": {},
   "outputs": [
    {
     "data": {
      "text/plain": [
       "9.487729036781154"
      ]
     },
     "execution_count": 28,
     "metadata": {},
     "output_type": "execute_result"
    }
   ],
   "source": [
    "stats.chi2.ppf(1-0.05,4)"
   ]
  },
  {
   "cell_type": "code",
   "execution_count": null,
   "id": "45108759",
   "metadata": {},
   "outputs": [],
   "source": [
    "4. Make a Decision:"
   ]
  },
  {
   "cell_type": "code",
   "execution_count": null,
   "id": "d35bbf09",
   "metadata": {},
   "outputs": [],
   "source": [
    "# Make decision\n",
    "if chi2 > critical_value:\n",
    "    print(\"Reject the null hypothesis. There is a significant association between the type of smart home device purchased and the customer satisfaction level.\")\n",
    "else:\n",
    "    print(\"Fail to reject the null hypothesis. There is no significant association between the type of smart home device purchased and the customer satisfaction level.\")"
   ]
  }
 ],
 "metadata": {
  "kernelspec": {
   "display_name": "Python 3 (ipykernel)",
   "language": "python",
   "name": "python3"
  },
  "language_info": {
   "codemirror_mode": {
    "name": "ipython",
    "version": 3
   },
   "file_extension": ".py",
   "mimetype": "text/x-python",
   "name": "python",
   "nbconvert_exporter": "python",
   "pygments_lexer": "ipython3",
   "version": "3.11.7"
  }
 },
 "nbformat": 4,
 "nbformat_minor": 5
}
